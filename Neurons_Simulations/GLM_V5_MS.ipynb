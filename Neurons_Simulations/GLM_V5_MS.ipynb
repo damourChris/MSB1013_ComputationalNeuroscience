{
 "cells": [
  {
   "cell_type": "markdown",
   "id": "cf588fbb-4722-4d96-80da-7732c63fc37f",
   "metadata": {},
   "source": [
    "ITERATIVE FUNCTION"
   ]
  },
  {
   "cell_type": "markdown",
   "id": "d97985c5-9341-45cf-80b3-d8bbb6185639",
   "metadata": {},
   "source": [
    "#We have the NU as the input, and it returns Y as the output. So we want to iterate that but changing the NU"
   ]
  },
  {
   "cell_type": "code",
   "execution_count": null,
   "id": "7ea2ec83",
   "metadata": {},
   "outputs": [],
   "source": [
    "import os\n",
    "import numpy as np\n",
    "from DMF_model import DMF_sim, DMF_parameters"
   ]
  },
  {
   "cell_type": "code",
   "execution_count": null,
   "id": "f4da4d91",
   "metadata": {},
   "outputs": [],
   "source": [
    "# Create folder to store the results\n",
    "folder = \"COMBIS\"\n",
    "folder_path = os.path.join(os.getcwd(), folder)\n",
    "if not os.path.exists(folder_path):\n",
    "    os.mkdir(folder_path)"
   ]
  },
  {
   "cell_type": "code",
   "execution_count": null,
   "id": "17b90c5c",
   "metadata": {},
   "outputs": [],
   "source": [
    "# DMF parameters\n",
    "P = DMF_parameters({})\n",
    "P['sigma'] = 0.02  # no noise\n",
    "\n",
    "# Simulation parameters   \n",
    "t_sim = 3 # simulation time\n",
    "t_start = 0.5 # stimulation start time\n",
    "t_stop = 2.5 # stimulation stop time\n",
    "dt = P['dt']     # integration time step\n",
    "P['T'] = t_sim\n",
    "\n",
    "transient_end = int(0.1/dt) # end of initial transient\n",
    "\n",
    "# layer specific external input\n",
    "stim_start = int(t_start/dt)    # start of stimulation\n",
    "stim_end   = int(t_stop/dt)    # end of stimulation\n",
    "sim_steps = int(t_sim/dt)       # number of simulation steps\n",
    "\n",
    "stim_index = range(stim_start,stim_end) # indices of stimulation\n",
    "input_template = np.zeros(sim_steps) # input current\n",
    "input_template[stim_index] = 1.0 # input current during stimulation (later just multiply with the specific input intensity)\n",
    "\n",
    "# Define the possible values for each input intensity.\n",
    "valuesI = [50, 100, 150, 200, 250, 300]\n",
    "valuesLayer = range(8)\n",
    "\n",
    "# Create an array of all possible combinations for each input\n",
    "input_combinations = np.array(np.meshgrid(valuesI, valuesI)).T.reshape(-1, 2)\n",
    "layer_combinations = np.array(np.meshgrid(valuesLayer, valuesLayer)).T.reshape(-1, 2)\n",
    "\n",
    "# repeat each input combination for each layer combination\n",
    "input_combinations = np.repeat(input_combinations, len(layer_combinations), axis=0)\n",
    "layer_combinations = np.tile(layer_combinations, (len(valuesI)**2, 1))\n",
    "\n",
    "# repeat each input combination and layer combination 5 times\n",
    "input_combinations = np.repeat(input_combinations, 5, axis=0)\n",
    "layer_combinations = np.repeat(layer_combinations, 5, axis=0)\n",
    "\n",
    "# Create random input combinations centered around the original input combinations\n",
    "input_combinations = input_combinations + np.random.uniform(-50, 49, input_combinations.shape)\n",
    "\n",
    "# save input and layer combinations\n",
    "np.save(os.path.join(folder_path, \"input_combinations.npy\"), input_combinations)\n",
    "np.save(os.path.join(folder_path, \"layer_combinations.npy\"), layer_combinations)"
   ]
  },
  {
   "cell_type": "code",
   "execution_count": null,
   "id": "b8f659f2",
   "metadata": {},
   "outputs": [],
   "source": [
    "# The loop\n",
    "duration = sim_steps - transient_end\n",
    "total_number_combinations = len(input_combinations)\n",
    "\n",
    "# divide the total number of combinations into 10 batches and save each batch separately\n",
    "batch_size = int(total_number_combinations/10)\n",
    "\n",
    "Y = np.zeros((duration, 8, batch_size))\n",
    "batch_counter = 0\n",
    "for total_counter, (current, layer) in enumerate(zip(input_combinations, layer_combinations)):\n",
    "    U = np.zeros((sim_steps, 8))\n",
    "    U[:, layer[0]] = input_template * current[0]\n",
    "    U[:, layer[1]] = input_template * current[1]\n",
    "\n",
    "    # Run the simulation\n",
    "    I, _, _ = DMF_sim(U, P)\n",
    "    Y[:, :, batch_counter] = I[transient_end:, :]\n",
    "\n",
    "    batch_counter += 1\n",
    "    if (total_counter + 1) % batch_size == 0:\n",
    "        # Save the results and include the batch number in the file name with leading zeros\n",
    "        np.save(os.path.join(folder_path, f'Y_{batch_counter:02d}.npy'), Y)\n",
    "        Y = np.zeros((duration, 8, batch_size))\n",
    "        batch_counter = 0\n",
    "        "
   ]
  }
 ],
 "metadata": {
  "kernelspec": {
   "display_name": "Python 3 (ipykernel)",
   "language": "python",
   "name": "python3"
  },
  "language_info": {
   "codemirror_mode": {
    "name": "ipython",
    "version": 3
   },
   "file_extension": ".py",
   "mimetype": "text/x-python",
   "name": "python",
   "nbconvert_exporter": "python",
   "pygments_lexer": "ipython3",
   "version": "3.11.5"
  }
 },
 "nbformat": 4,
 "nbformat_minor": 5
}
