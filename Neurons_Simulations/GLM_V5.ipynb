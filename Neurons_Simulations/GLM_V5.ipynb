{
 "cells": [
  {
   "cell_type": "markdown",
   "id": "cf588fbb-4722-4d96-80da-7732c63fc37f",
   "metadata": {},
   "source": [
    "ITERATIVE FUNCTION"
   ]
  },
  {
   "cell_type": "markdown",
   "id": "d97985c5-9341-45cf-80b3-d8bbb6185639",
   "metadata": {},
   "source": [
    "#We have the NU as the input, and it returns Y as the output. So we want to iterate that but changing the NU"
   ]
  },
  {
   "cell_type": "code",
   "execution_count": 12,
   "id": "79773ddc-0570-493f-84ac-c473d7c189c0",
   "metadata": {},
   "outputs": [],
   "source": [
    "import numpy as np\n",
    "import copy\n",
    "from itertools import product\n",
    "import scipy as sp\n",
    "import pylab as plt\n",
    "import os\n",
    "from scipy.stats import gamma\n",
    "\n",
    "from DMF_model import DMF_sim, DMF_parameters\n",
    "path=os.getcwd()\n",
    "\n",
    "def HRF(times):\n",
    "    \"\"\" Return values for HRF at given times \"\"\"\n",
    "    # Gamma pdf for the peak\n",
    "    peak_values = gamma.pdf(times, 6)\n",
    "    # Gamma pdf for the undershoot\n",
    "    undershoot_values = gamma.pdf(times, 12)\n",
    "    # Combine them\n",
    "    values = peak_values - 0.35 * undershoot_values\n",
    "    # Scale max to 0.6\n",
    "    return values / np.max(values) * 0.6    \n",
    "    \n",
    "    # DMF parameters\n",
    "P = {}\n",
    "P = DMF_parameters(P)\n",
    "P['sigma'] = 0.02  # no noise\n",
    "\n",
    "T  = 5     # simulation time\n",
    "dt = 1e-4   # integration step\n",
    "P['T'] = T\n",
    "\n",
    "# layer specific external input\n",
    "stim_start = int(2/dt)    # start of stimulation\n",
    "stim_end   = int(5/dt)    # end of stimulation\n",
    "\n",
    "# Define the possible values for each input intensity.\n",
    "valuesI = [10,50]#, 100, 150, 200, 250, 300]\n",
    "valuesLayer = range(8)\n",
    "\n",
    "# Create an array of all possible combinations for each input\n",
    "input_combinations = list(product(valuesI, repeat=2))\n",
    "layer_combinations = list(product(valuesLayer, repeat=2))\n",
    "\n",
    "# Create the registry for the actual input combinations, that is, input_combinations + noise.\n",
    "noisy_input_combinations = np.zeros((len(input_combinations),1))\n",
    "\n",
    "# Create folder to store the results\n",
    "folder = \"COMBIS\"\n",
    "folder_path = os.path.join(os.getcwd(), folder)\n",
    "if not os.path.exists(folder_path):\n",
    "    os.mkdir(folder_path)\n",
    "\n",
    "# The Loop\n",
    "for i in range(len(input_combinations)):\n",
    "    T_results=np.zeros((len(layer_combinations),int((T/dt)-1/dt),P['M']))\n",
    "                       \n",
    "    # Update the U array based on the current population_combinations\n",
    "    U = np.zeros((int(T/dt), P['M']))\n",
    "    current_input_combination = input_combinations[i]    \n",
    "                       \n",
    "    for j in range(len(layer_combinations)):\n",
    "        current_layer_combination = layer_combinations[j]\n",
    "        noisy_current_input_combination = (round(np.random.uniform((current_input_combination[0]-50),(current_input_combination[0]+50)),3),round(np.random.uniform((current_input_combination[1]-50),(current_input_combination[1]+50)),3))\n",
    "        U[stim_start:stim_end, current_layer_combination[0]] = noisy_current_input_combination[0]\n",
    "        U[stim_start:stim_end, current_layer_combination[1]] = noisy_current_input_combination[1] #uniformly distributed noise around the selected input value, cut the decimals at 3\n",
    "        noisy_current_input_combination = (int(),int())\n",
    "        # Simulate\n",
    "        I, H, F = DMF_sim(U, P)     # I - input current, H - membrane potential, F - firing rate\n",
    "        Y = I[int(1/dt):, :]   # deviation from baseline during stimulation (and remove initial transient)\n",
    "\n",
    "        # Append the Y values to the results\n",
    "        T_results[j,:,:] = Y\n",
    "    # Export the array after each combination and delete them                   \n",
    "    T_array=np.array(T_results) \n",
    "    file_name = 'COMBIN{}.npy'.format(i)\n",
    "    file_path = os.path.join(folder_path, file_name)\n",
    "    np.save(file_path, T_array)\n",
    "\n",
    "    # Bring em all together in the end & Save the registry of actual inputs."
   ]
  },
  {
   "cell_type": "code",
   "execution_count": 10,
   "id": "5dd55ca1-f7d0-419b-9536-d7e6d9985be7",
   "metadata": {},
   "outputs": [
    {
     "data": {
      "text/plain": [
       "(36, 2)"
      ]
     },
     "execution_count": 10,
     "metadata": {},
     "output_type": "execute_result"
    }
   ],
   "source": [
    "from itertools import product\n",
    "import numpy as np\n",
    "\n",
    "valuesI = [50, 100, 150, 200, 250, 300]\n",
    "input_combinations = list(product(valuesI, repeat=2))\n",
    "noisy_input_combinations = np.zeros((len(input_combinations),2))\n",
    "# print(noisy_input_combinations)\n",
    "noisy_input_combinations.shape"
   ]
  },
  {
   "cell_type": "code",
   "execution_count": 2,
   "id": "d8686424-2a0b-4974-9a39-7412539d403d",
   "metadata": {},
   "outputs": [
    {
     "name": "stdout",
     "output_type": "stream",
     "text": [
      "(50, 200)\n"
     ]
    }
   ],
   "source": [
    "from itertools import product\n",
    "\n",
    "valuesI = [50, 100, 150, 200, 250, 300]\n",
    "input_combinations = list(product(valuesI, repeat=2))\n",
    "a = list(input_combinations)\n",
    "b = len(a)\n",
    "c = input_combinations[3]\n",
    "U = [0]*40\n",
    "for i in range(len(input_combinations)):\n",
    "    U[i] = input_combinations[i]\n",
    "    \n",
    "print(a[3])"
   ]
  },
  {
   "cell_type": "code",
   "execution_count": 3,
   "id": "95390e76-7d73-4804-9753-1c2c7faf4a8a",
   "metadata": {},
   "outputs": [
    {
     "ename": "NameError",
     "evalue": "name 'Y_results_array' is not defined",
     "output_type": "error",
     "traceback": [
      "\u001b[0;31m---------------------------------------------------------------------------\u001b[0m",
      "\u001b[0;31mNameError\u001b[0m                                 Traceback (most recent call last)",
      "Cell \u001b[0;32mIn[3], line 1\u001b[0m\n\u001b[0;32m----> 1\u001b[0m \u001b[43mY_results_array\u001b[49m\u001b[38;5;241m.\u001b[39mshape\n",
      "\u001b[0;31mNameError\u001b[0m: name 'Y_results_array' is not defined"
     ]
    }
   ],
   "source": [
    "Y_results_array.shape\n"
   ]
  },
  {
   "cell_type": "code",
   "execution_count": null,
   "id": "5fb9c3ca-0221-4c17-a1a2-823af1c64d2c",
   "metadata": {},
   "outputs": [],
   "source": [
    "#BASELINE SIMULATION:\n",
    "\n",
    "T  = 30     # simulation time\n",
    "dt = 1e-4   # integration step\n",
    "P['T'] = T\n",
    "\n",
    "# layer specific external input\n",
    "stim_start = int(28/dt)    # start of stimulation\n",
    "stim_end   = int(29/dt)    # end of stimulation\n",
    "\n",
    "    # Baseline inputs (no inputs)\n",
    "input_baseline = (0,0)\n",
    "layer_baseline = (0,0)\n",
    "    \n",
    "    # Simulate\n",
    "    \n",
    "T_results=np.zeros((1,int(T/dt),P['M']))\n",
    "U = np.zeros((int(T/dt), P['M']))\n",
    "\n",
    "U[stim_start:stim_end, layer_baseline[0]] = input_baseline[0]\n",
    "U[stim_start:stim_end, layer_baseline[1]] = input_baseline[1]\n",
    "I, H, F = DMF_sim(U, P)     # I - input current, H - membrane potential, F - firing rate\n",
    "Y = I[int(1/dt):, :] - np.mean(I[int(0.5/dt):int(1/dt), :], axis=0)  # deviation from baseline during stimulation (and remove initial transient)\n",
    "Y = (Y - np.min(Y)) / (np.max(Y) - np.min(Y)) * 2 - 1  # normalize Y between -1 and 1\n",
    "\n",
    "#export BASELINE array\n",
    "baseline_array=np.array(Y) \n",
    "folder_path = \"{}/COMBIS\".format(path)\n",
    "file_name = 'baseline.npy'.format(i)\n",
    "file_path = os.path.join(folder_path, file_name)\n",
    "np.save(file_path, baseline_array)\n"
   ]
  },
  {
   "cell_type": "markdown",
   "id": "6c935c8d-45c6-4489-9e92-b391d089971d",
   "metadata": {},
   "source": [
    "Current: NU, more combinations. input ranges from 0 to 300 in incrememnts of possibly 25mA? add noise with the same combinations, sample around the value of th einput (randomly sampled as a normal distribution), \n",
    "\n",
    "Alex's notes:\n",
    "- The recording matrix needs three dimensions. Condition, Layer and Timestep of the simulation. \n",
    "- Start from 0 firing rate to 300. The intensity should be from 50 to 300 picoA.\n",
    "\n",
    "- Simulating each condition severlat times.\n"
   ]
  },
  {
   "cell_type": "markdown",
   "id": "9af97d67-0292-4b03-ae89-5da9eff614ff",
   "metadata": {},
   "source": [
    "Ang's notes:\n",
    "- 2-3 BASELINE INPUT (NO INPUT) - 10 SECOND INPUT - 3S BASELINE\n",
    "- i simulated the baseline and saved it. PLOT IT TO SEE IF ITS TRULLY NO INPUT\n",
    "- append the baseline array at the end if it works\n",
    "\n",
    "- is the input value (with noise) being saved?\n"
   ]
  }
 ],
 "metadata": {
  "kernelspec": {
   "display_name": "Python 3 (ipykernel)",
   "language": "python",
   "name": "python3"
  },
  "language_info": {
   "codemirror_mode": {
    "name": "ipython",
    "version": 3
   },
   "file_extension": ".py",
   "mimetype": "text/x-python",
   "name": "python",
   "nbconvert_exporter": "python",
   "pygments_lexer": "ipython3",
   "version": "3.9.12"
  }
 },
 "nbformat": 4,
 "nbformat_minor": 5
}
