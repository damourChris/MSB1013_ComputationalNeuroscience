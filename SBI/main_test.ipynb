{
 "cells": [
  {
   "cell_type": "markdown",
   "id": "d4da9e2d-daed-4a16-bfff-fb5f087d4df2",
   "metadata": {},
   "source": [
    "# Simulation Based Inference For NeuroScience: The BOLD signal"
   ]
  },
  {
   "cell_type": "markdown",
   "id": "59d3990e-103d-4b2a-9a10-581cb6e9a6f3",
   "metadata": {},
   "source": [
    "## Table Of Content:\n",
    "* [Setup](#set-up)\n",
    "* [Train a Density Estimator](#density-estimator)\n",
    "* [Loading Simulation Results](#simulation)\n",
    "* [Training the Neural Network](#training)\n",
    "* [Validating Results](#validation)\n",
    "* [Plotting and Saving the Figures](#figures)"
   ]
  },
  {
   "cell_type": "markdown",
   "id": "c6330678-2999-4b88-8d0b-ea93e8c14fd6",
   "metadata": {
    "tags": []
   },
   "source": [
    "## Setup<a class=\"anchor\" id=\"set-up\"></a>\n",
    "\n",
    "First import the needed libraries (and set current working directory if needed)."
   ]
  },
  {
   "cell_type": "code",
   "execution_count": null,
   "id": "4e728d79-1e16-4f04-b721-02b4f97844fc",
   "metadata": {},
   "outputs": [],
   "source": [
    "# If needed, before starting, change the current working directory by uncommenting and inserting the right path:\n",
    "import os\n",
    "# os.chdir(\"/home/coder/projects/lorenz_sbi\")\n",
    "\n",
    "# General libraries:\n",
    "import numpy as np\n",
    "import pylab as plt\n",
    "import argparse \n",
    "import torch \n",
    "\n",
    "from sbi.inference import SNPE, SNLE, SNRE\n",
    "\n",
    "# For plotting:\n",
    "from sbi.analysis import pairplot, conditional_pairplot\n",
    "from utils import marginal_correlation\n",
    "\n",
    "# Functions:\n",
    "from train import train\n",
    "\n",
    "# Get the path of the current working directory: \n",
    "cwd_path = os.getcwd()"
   ]
  },
  {
   "cell_type": "markdown",
   "id": "f9e07450",
   "metadata": {},
   "source": [
    "## Train a density estimator<a class=\"anchor\" id=\"density-estimator\"></a>"
   ]
  },
  {
   "cell_type": "code",
   "execution_count": null,
   "id": "e75d21ee",
   "metadata": {},
   "outputs": [],
   "source": [
    "# Train a density estimator.\n",
    "# If desired, change the number of threads to a higher number (by default it's 1).\n",
    "parser = argparse.ArgumentParser(description=\"Train a density estimator.\")\n",
    "parser.add_argument(\"--data\", type=str, default=cwd_path + \"/data/X.npy\", help=\"Path to the data file.\")\n",
    "parser.add_argument(\"--method\", type=str, default=\"SNPE\", help=\"Inference method.\")\n",
    "parser.add_argument(\"--density_estimator\", type=str, default=\"maf\", help=\"Density estimator.\")\n",
    "parser.add_argument(\"--num_threads\", type=int, default=1, help=\"Number of threads.\")\n",
    "parser.add_argument(\"--device\", type=str, default=\"cpu\", help=\"Device.\")\n",
    "\n",
    "args, unknown = parser.parse_known_args()"
   ]
  },
  {
   "cell_type": "markdown",
   "id": "26f74a4a",
   "metadata": {},
   "source": [
    "## Creating X"
   ]
  },
  {
   "cell_type": "code",
   "execution_count": null,
   "id": "a3bed2ee",
   "metadata": {},
   "outputs": [],
   "source": [
    "# Read in beta files (input to our NN).\n",
    "# First read in 1 file:\n",
    "betas = np.load(cwd_path + \"/data/Betas_01.npy\")\n",
    "\n",
    "# Append the rest of the beta batches to this file:\n",
    "for number in range(2, 11):\n",
    "    #print(number)\n",
    "    if number <= 9:\n",
    "        beta_files = np.load(cwd_path + \"/data/Betas_0\" + str(number) + \".npy\")\n",
    "        betas = np.concatenate((betas, beta_files))\n",
    "    else:\n",
    "        beta_files = np.load(cwd_path + \"/data/Betas_10.npy\")\n",
    "        betas = np.concatenate((betas, beta_files))\n",
    "\n",
    "# Read in our parameters.\n",
    "total_combinations = np.load(cwd_path + \"/data/total_combinations.npy\")\n",
    "\n",
    "\n",
    "# Check whether the number of rows match between our parameters and beta values.\n",
    "print(\"Does the length match between the parameters and the beta value (returns True if this is true)?\", len(total_combinations) == len(betas))\n",
    "\n",
    "# Concatenate both together:\n",
    "X = np.concatenate((total_combinations, betas), axis = 1)\n",
    "\n",
    "print(\"The shape of X is: \", X.shape)\n",
    "print(\"The first row/simulation in X is: \", \"\\n\", X[0])\n",
    "\n",
    "np.save(cwd_path + \"/data/X.npy\", X)"
   ]
  },
  {
   "cell_type": "markdown",
   "id": "7cf2a7b5-6c6e-4478-b8f8-007091d4289d",
   "metadata": {},
   "source": [
    "## Loading Simulation Results<a class=\"anchor\" id=\"simulation\"></a>"
   ]
  },
  {
   "cell_type": "code",
   "execution_count": 7,
   "id": "aa87b568-4118-493c-b7e9-cba3db39b7a7",
   "metadata": {},
   "outputs": [
    {
     "name": "stdout",
     "output_type": "stream",
     "text": [
      "60000\n",
      "[5.91164975 5.91920401 5.96471115 0.13882868 0.11480275 0.1577574\n",
      " 0.11480275 0.10333426 0.11946977 0.1577574  0.11946977 0.19903269\n",
      " 1.         0.95849652 0.94904747 0.95849652 1.         0.83305496\n",
      " 0.94904747 0.83305496 1.         8.50382875 5.87806224 7.00083841]\n",
      "[[5.91164975 5.91920401 5.96471115 0.13882868 0.11480275 0.1577574\n",
      "  0.11480275 0.10333426 0.11946977 0.1577574  0.11946977 0.19903269\n",
      "  1.         0.95849652 0.94904747 0.95849652 1.         0.83305496\n",
      "  0.94904747 0.83305496 1.         8.50382875 5.87806224 7.00083841]]\n"
     ]
    }
   ],
   "source": [
    "X = np.load(args.data, allow_pickle=True)\n",
    "print(X.shape[0])\n",
    "print(X[0])\n",
    "\n",
    "# Split this matrix into train and test data.\n",
    "\n",
    "# Take the first n rows of X for X_train (and all the columns of that row). The other rows will be assigned to X_test.\n",
    "# X_train = X[:n, :]\n",
    "# X_test = X[n:, :]\n",
    "\n",
    "# As a small test only the last simulation is used as test data.\n",
    "X_train = X[:11519, :]\n",
    "X_test = X[11519:, :]"
   ]
  },
  {
   "cell_type": "markdown",
   "id": "0d4b9a8d-93ab-43c0-bdfc-50aca85e2187",
   "metadata": {},
   "source": [
    "## Training the Neural Network <a class=\"anchor\" id=\"training\"></a>\n",
    "\n",
    "There is a pretrained posterior present in the models map. If you want to retrain it, uncomment the block of code below before running it."
   ]
  },
  {
   "cell_type": "code",
   "execution_count": null,
   "id": "4407948a-0310-474d-aa31-30de5523615c",
   "metadata": {},
   "outputs": [],
   "source": [
    "# # Establish how many simulations are in the data \n",
    "# num_simulations = X_train.shape[0]\n",
    "\n",
    "# # Seperate simulation parameters and summary statistics\n",
    "# params = X_train[:, -4:]\n",
    "# stats  = X_train[:, :-4]\n",
    "\n",
    "# # When working with Torch, the matrix has to be parsed to a Torch object \n",
    "# theta = torch.from_numpy(params).float()\n",
    "# x = torch.from_numpy(stats).float()\n",
    "\n",
    "# # Train the posterior with all the arguments needed \n",
    "# posterior = train(num_simulations,\n",
    "#                     x,\n",
    "#                     theta,\n",
    "#                     num_threads         = args.num_threads,\n",
    "#                     method              = args.method,\n",
    "#                     device              = args.device,\n",
    "#                     density_estimator   = args.density_estimator\n",
    "#                     )\n",
    "\n",
    "# # Save posterior (intermediate result).\n",
    "# torch.save(posterior, cwd_path + \"/models/posterior.pt\")"
   ]
  },
  {
   "cell_type": "markdown",
   "id": "d45087be-d8dc-4520-9ce7-5035813a611b",
   "metadata": {},
   "source": [
    "## Validating Results <a class=\"anchor\" id=\"validation\"></a>"
   ]
  },
  {
   "cell_type": "code",
   "execution_count": null,
   "id": "6f311085-8967-452a-95f1-9bb9574c6357",
   "metadata": {},
   "outputs": [],
   "source": [
    "# Known values (for testing the model); split X_test into the parameters and summary statistics.\n",
    "# obs_x = \"\" # Get default stats\n",
    "# obs_theta = \"\" # Get default params\n",
    "\n",
    "# Testing workflow.\n",
    "obs_x = X_test[0, -4:] # Get default stats\n",
    "obs_theta = X_test[0, :-4] # Get default params\n",
    "\n",
    "print(X_test)\n",
    "print(obs_x)\n",
    "print(obs_theta)\n",
    "\n",
    "# Load posterior.\n",
    "posterior = torch.load(cwd_path + \"/models/posterior.pt\")\n",
    "\n",
    "num_samples = 100000\n",
    "\n",
    "posterior.set_default_x(obs_x)\n",
    "posterior_samples = posterior.sample((num_samples,))"
   ]
  },
  {
   "cell_type": "markdown",
   "id": "c142b4a2",
   "metadata": {},
   "source": [
    "## Plotting and Saving the Figures <a class=\"anchor\" id=\"figures\"></a>"
   ]
  },
  {
   "cell_type": "code",
   "execution_count": null,
   "id": "cfda9311",
   "metadata": {},
   "outputs": [],
   "source": [
    "plt.figure()\n",
    "fig, ax = pairplot(samples=posterior_samples, labels=[r\"$NU_1$\", r\"$NU_2$\", r\"$NU_3$\", r\"$NU_4$\", r\"$NU_5$\", r\"$NU_6$\", \n",
    "                   r\"$NU_7$\", r\"$NU_8$\"], figsize=(20, 20))\n",
    "plt.show()\n",
    "\n",
    "# Save figure.\n",
    "plt.savefig(cwd_path + \"/png/pairplot.png\")\n",
    "\n",
    "plt.figure()\n",
    "fig, ax = marginal_correlation(samples=posterior_samples, labels=[r\"$NU_1$\", r\"$NU_2$\", r\"$NU_3$\", r\"$NU_4$\", r\"$NU_5$\", r\"$NU_6$\", \n",
    "                               r\"$NU_7$\", r\"$NU_8$\"], figsize=(10, 10))\n",
    "plt.show()\n",
    "\n",
    "#Save figure.\n",
    "plt.savefig(cwd_path + \"/png/marginal_correlation.png\")"
   ]
  }
 ],
 "metadata": {
  "kernelspec": {
   "display_name": "Python 3",
   "language": "python",
   "name": "python3"
  },
  "language_info": {
   "codemirror_mode": {
    "name": "ipython",
    "version": 3
   },
   "file_extension": ".py",
   "mimetype": "text/x-python",
   "name": "python",
   "nbconvert_exporter": "python",
   "pygments_lexer": "ipython3",
   "version": "3.10.12"
  }
 },
 "nbformat": 4,
 "nbformat_minor": 5
}
